{
 "cells": [
  {
   "cell_type": "code",
   "execution_count": null,
   "id": "485dc77e",
   "metadata": {},
   "outputs": [],
   "source": [
    "impo"
   ]
  }
 ],
 "metadata": {
  "language_info": {
   "name": "python"
  }
 },
 "nbformat": 4,
 "nbformat_minor": 5
}
