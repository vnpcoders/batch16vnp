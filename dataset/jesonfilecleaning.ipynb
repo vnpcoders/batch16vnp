{
 "cells": [
  {
   "cell_type": "code",
   "execution_count": null,
   "id": "485dc77e",
   "metadata": {},
   "outputs": [],
   "source": [
    "import pandas as pd"
   ]
  },
  {
   "cell_type": "code",
   "execution_count": null,
   "id": "1174d2bf",
   "metadata": {},
   "outputs": [],
   "source": []
  }
 ],
 "metadata": {
  "language_info": {
   "name": "python"
  }
 },
 "nbformat": 4,
 "nbformat_minor": 5
}
