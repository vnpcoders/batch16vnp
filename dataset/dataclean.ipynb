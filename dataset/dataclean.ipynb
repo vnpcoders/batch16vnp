{
 "cells": [
  {
   "cell_type": "code",
   "execution_count": 1,
   "id": "3f4e7055",
   "metadata": {},
   "outputs": [],
   "source": [
    "import numpy as np\n",
    "import pandas as pd\n",
    "import matplotlib"
   ]
  },
  {
   "cell_type": "code",
   "execution_count": null,
   "id": "8df3721a",
   "metadata": {},
   "outputs": [],
   "source": [
    "df="
   ]
  }
 ],
 "metadata": {
  "kernelspec": {
   "display_name": "vnp",
   "language": "python",
   "name": "python3"
  },
  "language_info": {
   "codemirror_mode": {
    "name": "ipython",
    "version": 3
   },
   "file_extension": ".py",
   "mimetype": "text/x-python",
   "name": "python",
   "nbconvert_exporter": "python",
   "pygments_lexer": "ipython3",
   "version": "3.13.5"
  }
 },
 "nbformat": 4,
 "nbformat_minor": 5
}
