{
 "cells": [
  {
   "cell_type": "code",
   "execution_count": null,
   "id": "3f4e7055",
   "metadata": {},
   "outputs": [],
   "source": [
    "import numpy"
   ]
  }
 ],
 "metadata": {
  "language_info": {
   "name": "python"
  }
 },
 "nbformat": 4,
 "nbformat_minor": 5
}
