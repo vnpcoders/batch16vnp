{
 "cells": [
  {
   "cell_type": "code",
   "execution_count": null,
   "id": "3f4e7055",
   "metadata": {},
   "outputs": [],
   "source": [
    "import numpy as np\n",
    "import p"
   ]
  }
 ],
 "metadata": {
  "language_info": {
   "name": "python"
  }
 },
 "nbformat": 4,
 "nbformat_minor": 5
}
