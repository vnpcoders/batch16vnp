{
 "cells": [
  {
   "cell_type": "code",
   "execution_count": null,
   "id": "91c6326b",
   "metadata": {},
   "outputs": [],
   "source": [
    "from sklearn.ensemble import RandomForestClassifier\n",
    "rf=RandomForestClassifier(criterion='entropy',n_estimators=50)\n",
    "rf.fit(x_train,y_train)"
   ]
  }
 ],
 "metadata": {
  "language_info": {
   "name": "python"
  }
 },
 "nbformat": 4,
 "nbformat_minor": 5
}
